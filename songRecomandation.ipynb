{
 "cells": [
  {
   "cell_type": "code",
   "execution_count": 1,
   "id": "cc0c4893",
   "metadata": {},
   "outputs": [],
   "source": [
    "import numpy as np\n",
    "import pandas as pd"
   ]
  },
  {
   "cell_type": "code",
   "execution_count": 2,
   "id": "3eb9bfee",
   "metadata": {},
   "outputs": [
    {
     "data": {
      "text/html": [
       "<div>\n",
       "<style scoped>\n",
       "    .dataframe tbody tr th:only-of-type {\n",
       "        vertical-align: middle;\n",
       "    }\n",
       "\n",
       "    .dataframe tbody tr th {\n",
       "        vertical-align: top;\n",
       "    }\n",
       "\n",
       "    .dataframe thead th {\n",
       "        text-align: right;\n",
       "    }\n",
       "</style>\n",
       "<table border=\"1\" class=\"dataframe\">\n",
       "  <thead>\n",
       "    <tr style=\"text-align: right;\">\n",
       "      <th></th>\n",
       "      <th>artist</th>\n",
       "      <th>song</th>\n",
       "      <th>link</th>\n",
       "      <th>text</th>\n",
       "    </tr>\n",
       "  </thead>\n",
       "  <tbody>\n",
       "    <tr>\n",
       "      <th>0</th>\n",
       "      <td>ABBA</td>\n",
       "      <td>Ahe's My Kind Of Girl</td>\n",
       "      <td>/a/abba/ahes+my+kind+of+girl_20598417.html</td>\n",
       "      <td>Look at her face, it's a wonderful face  \\nAnd...</td>\n",
       "    </tr>\n",
       "    <tr>\n",
       "      <th>1</th>\n",
       "      <td>ABBA</td>\n",
       "      <td>Andante, Andante</td>\n",
       "      <td>/a/abba/andante+andante_20002708.html</td>\n",
       "      <td>Take it easy with me, please  \\nTouch me gentl...</td>\n",
       "    </tr>\n",
       "    <tr>\n",
       "      <th>2</th>\n",
       "      <td>ABBA</td>\n",
       "      <td>As Good As New</td>\n",
       "      <td>/a/abba/as+good+as+new_20003033.html</td>\n",
       "      <td>I'll never know why I had to go  \\nWhy I had t...</td>\n",
       "    </tr>\n",
       "    <tr>\n",
       "      <th>3</th>\n",
       "      <td>ABBA</td>\n",
       "      <td>Bang</td>\n",
       "      <td>/a/abba/bang_20598415.html</td>\n",
       "      <td>Making somebody happy is a question of give an...</td>\n",
       "    </tr>\n",
       "    <tr>\n",
       "      <th>4</th>\n",
       "      <td>ABBA</td>\n",
       "      <td>Bang-A-Boomerang</td>\n",
       "      <td>/a/abba/bang+a+boomerang_20002668.html</td>\n",
       "      <td>Making somebody happy is a question of give an...</td>\n",
       "    </tr>\n",
       "  </tbody>\n",
       "</table>\n",
       "</div>"
      ],
      "text/plain": [
       "  artist                   song                                        link  \\\n",
       "0   ABBA  Ahe's My Kind Of Girl  /a/abba/ahes+my+kind+of+girl_20598417.html   \n",
       "1   ABBA       Andante, Andante       /a/abba/andante+andante_20002708.html   \n",
       "2   ABBA         As Good As New        /a/abba/as+good+as+new_20003033.html   \n",
       "3   ABBA                   Bang                  /a/abba/bang_20598415.html   \n",
       "4   ABBA       Bang-A-Boomerang      /a/abba/bang+a+boomerang_20002668.html   \n",
       "\n",
       "                                                text  \n",
       "0  Look at her face, it's a wonderful face  \\nAnd...  \n",
       "1  Take it easy with me, please  \\nTouch me gentl...  \n",
       "2  I'll never know why I had to go  \\nWhy I had t...  \n",
       "3  Making somebody happy is a question of give an...  \n",
       "4  Making somebody happy is a question of give an...  "
      ]
     },
     "execution_count": 2,
     "metadata": {},
     "output_type": "execute_result"
    }
   ],
   "source": [
    "df=pd.read_csv('songdata.csv')\n",
    "df.head(5)"
   ]
  },
  {
   "cell_type": "code",
   "execution_count": 3,
   "id": "2cf92c6b",
   "metadata": {},
   "outputs": [],
   "source": [
    "# reduce the size of sample data to 5000 rows and pefrom operation column wise\n",
    "df = df.sample(n=5000).drop('link', axis=1).reset_index(drop=True)"
   ]
  },
  {
   "cell_type": "code",
   "execution_count": 4,
   "id": "3bafd571",
   "metadata": {},
   "outputs": [
    {
     "data": {
      "text/plain": [
       "'Anything Can Happen'"
      ]
     },
     "execution_count": 4,
     "metadata": {},
     "output_type": "execute_result"
    }
   ],
   "source": [
    "df['song'][0]"
   ]
  },
  {
   "cell_type": "code",
   "execution_count": 5,
   "id": "82b395cb",
   "metadata": {},
   "outputs": [
    {
     "data": {
      "text/plain": [
       "\"Time will come when we know what happened here  \\nChange will come in time and make it clear  \\nWe learn one thing if we learn at all  \\nIn the secret wars we call our lives, anything can happen  \\nWe watch the days, we make our plans  \\nWe change in ways, a life demands  \\nBut whatever pleasure this life may allow  \\nI'll give you the love I have for you now  \\nBecause anything can happen in a world so full of fear  \\nDreams are whispered in the dead of night and people disappear  \\nBut you hear my heart and you know I'm still here  \\nAlthough you know and I know you know  \\nWhile I swear I'll never let you go, anything can happen  \\nYeah, if this love can happen here  \\nAnything can  \\nWe watch the days, we make our plans  \\nWe change in ways a life demands  \\nI'll always remember this time, this place  \\nThe hope in your voice, the light on your face  \\nBecause anything can happen in a world so full of pain  \\nPeople give their lives to making war and we call those people sane  \\nBut I love you where your dreams remain  \\nThough you never say it anymore  \\nOne day there'll be an end to this war and who knows  \\nWe may see what we're here for, anything can happen  \\nYeah, if this love has found us here  \\nAnything can, it can happen  \\nAnything can, anything can happen  \\nAnything, anything, anything, anything  \\n\\n\""
      ]
     },
     "execution_count": 5,
     "metadata": {},
     "output_type": "execute_result"
    }
   ],
   "source": [
    "#before cleaning data\n",
    "df['text'][0]"
   ]
  },
  {
   "cell_type": "code",
   "execution_count": 6,
   "id": "5b544f78",
   "metadata": {},
   "outputs": [],
   "source": [
    "# Removing special characters and convert upper case letter to Lower case letter\n",
    "df['text'] = df['text'].str.lower().replace(r'[^\\w\\s]','').replace(r'\\n',' ', regex=True)"
   ]
  },
  {
   "cell_type": "code",
   "execution_count": 7,
   "id": "4aad1ca4",
   "metadata": {},
   "outputs": [
    {
     "data": {
      "text/plain": [
       "\"time will come when we know what happened here   change will come in time and make it clear   we learn one thing if we learn at all   in the secret wars we call our lives, anything can happen   we watch the days, we make our plans   we change in ways, a life demands   but whatever pleasure this life may allow   i'll give you the love i have for you now   because anything can happen in a world so full of fear   dreams are whispered in the dead of night and people disappear   but you hear my heart and you know i'm still here   although you know and i know you know   while i swear i'll never let you go, anything can happen   yeah, if this love can happen here   anything can   we watch the days, we make our plans   we change in ways a life demands   i'll always remember this time, this place   the hope in your voice, the light on your face   because anything can happen in a world so full of pain   people give their lives to making war and we call those people sane   but i love you where your dreams remain   though you never say it anymore   one day there'll be an end to this war and who knows   we may see what we're here for, anything can happen   yeah, if this love has found us here   anything can, it can happen   anything can, anything can happen   anything, anything, anything, anything    \""
      ]
     },
     "execution_count": 7,
     "metadata": {},
     "output_type": "execute_result"
    }
   ],
   "source": [
    "# After Cleaning Data \n",
    "# Show Data again\n",
    "df['text'][0]"
   ]
  },
  {
   "cell_type": "code",
   "execution_count": 8,
   "id": "b98ca807",
   "metadata": {},
   "outputs": [
    {
     "name": "stderr",
     "output_type": "stream",
     "text": [
      "[nltk_data] Downloading package punkt to\n",
      "[nltk_data]     C:\\Users\\dhruv\\AppData\\Roaming\\nltk_data...\n",
      "[nltk_data]   Package punkt is already up-to-date!\n"
     ]
    }
   ],
   "source": [
    "import nltk\n",
    "from nltk.stem.porter import PorterStemmer\n",
    "\n",
    "ps = PorterStemmer()\n",
    "\n",
    "def tokenization(txt):\n",
    "    tokens = nltk.word_tokenize(txt)\n",
    "    stemming = [ps.stem(w) for w in tokens]\n",
    "    return \" \".join(stemming)\n",
    "\n",
    "# Download the 'punkt' resource\n",
    "nltk.download('punkt')\n",
    "\n",
    "# Apply tokenization function to 'text' column in DataFrame\n",
    "df['text'] = df['text'].apply(lambda x: tokenization(x))\n"
   ]
  },
  {
   "cell_type": "code",
   "execution_count": 9,
   "id": "d6ffc29a",
   "metadata": {},
   "outputs": [
    {
     "data": {
      "text/plain": [
       "0       time will come when we know what happen here c...\n",
       "1       i wa taught a month ago to bide my time and ta...\n",
       "2       now i 'd like to turn to the folk song , which...\n",
       "3       twenti citi , it pass me by find treasur i do ...\n",
       "4       cloud differ shape and size hide the horizon c...\n",
       "                              ...                        \n",
       "4995    for all i know , you could be near and everi b...\n",
       "4996    i just look to see the sun outsid it 's shine ...\n",
       "4997    i 'm go to detail what happen to me , that the...\n",
       "4998    when there 's a shadow near , reach for the su...\n",
       "4999    we can drag you out of bed in the middl of the...\n",
       "Name: text, Length: 5000, dtype: object"
      ]
     },
     "execution_count": 9,
     "metadata": {},
     "output_type": "execute_result"
    }
   ],
   "source": [
    "df['text']"
   ]
  },
  {
   "cell_type": "code",
   "execution_count": 11,
   "id": "d3a3bf32",
   "metadata": {},
   "outputs": [],
   "source": [
    "# cosine similarity and Tfid vectarizer\n",
    "from sklearn.feature_extraction.text import TfidfVectorizer\n",
    "from sklearn.metrics.pairwise import cosine_similarity"
   ]
  },
  {
   "cell_type": "code",
   "execution_count": 12,
   "id": "cb1e2694",
   "metadata": {},
   "outputs": [],
   "source": [
    "tfidvector = TfidfVectorizer(analyzer='word',stop_words='english') #remove useless words which have no meaning\n",
    "matrix = tfidvector.fit_transform(df['text'])\n",
    "similarity = cosine_similarity(matrix)"
   ]
  },
  {
   "cell_type": "code",
   "execution_count": 13,
   "id": "47ad4480",
   "metadata": {
    "scrolled": true
   },
   "outputs": [
    {
     "data": {
      "text/plain": [
       "array([[1.        , 0.02810153, 0.06549227, ..., 0.05908474, 0.0183648 ,\n",
       "        0.04247188],\n",
       "       [0.02810153, 1.        , 0.01633163, ..., 0.00224061, 0.0049526 ,\n",
       "        0.00386631],\n",
       "       [0.06549227, 0.01633163, 1.        , ..., 0.02279435, 0.00770109,\n",
       "        0.0329237 ],\n",
       "       ...,\n",
       "       [0.05908474, 0.00224061, 0.02279435, ..., 1.        , 0.        ,\n",
       "        0.03591217],\n",
       "       [0.0183648 , 0.0049526 , 0.00770109, ..., 0.        , 1.        ,\n",
       "        0.00678883],\n",
       "       [0.04247188, 0.00386631, 0.0329237 , ..., 0.03591217, 0.00678883,\n",
       "        1.        ]])"
      ]
     },
     "execution_count": 13,
     "metadata": {},
     "output_type": "execute_result"
    }
   ],
   "source": [
    "# show similarity\n",
    "similarity"
   ]
  },
  {
   "cell_type": "code",
   "execution_count": 27,
   "id": "c62ecbd4",
   "metadata": {},
   "outputs": [],
   "source": [
    "# creating recommendation fumction"
   ]
  },
  {
   "cell_type": "code",
   "execution_count": 42,
   "id": "c8b7dfc8",
   "metadata": {},
   "outputs": [],
   "source": [
    "# list(enumerate(similarity[idx]) this create a list of index we sort this because the most similar song come together "
   ]
  },
  {
   "cell_type": "code",
   "execution_count": 43,
   "id": "f694fb14",
   "metadata": {},
   "outputs": [],
   "source": [
    "# key=lambda x:x[1] means it start from 1st index  "
   ]
  },
  {
   "cell_type": "code",
   "execution_count": 16,
   "id": "863fbab1",
   "metadata": {},
   "outputs": [],
   "source": [
    "def recommendation(song_df):\n",
    "    matches= df[df['song'] == song_df]\n",
    "    if matches.empty:\n",
    "        print(f\"No matches found for '{song_df}'.\")\n",
    "        return []\n",
    "    idx=matches.index[0]\n",
    "    distances = sorted(list(enumerate(similarity[idx])),reverse=True,key=lambda x:x[1])\n",
    "    \n",
    "    songs = []\n",
    "    for m_id in distances[1:21]:\n",
    "        songs.append(df.iloc[m_id[0]].song)\n",
    "        \n",
    "    return songs"
   ]
  },
  {
   "cell_type": "code",
   "execution_count": 52,
   "id": "a8e7dd0a",
   "metadata": {},
   "outputs": [],
   "source": [
    "# calling recommendation function"
   ]
  },
  {
   "cell_type": "code",
   "execution_count": 17,
   "id": "9d123434",
   "metadata": {},
   "outputs": [
    {
     "name": "stdout",
     "output_type": "stream",
     "text": [
      "No matches found for 'Zero Landmine'.\n"
     ]
    },
    {
     "data": {
      "text/plain": [
       "[]"
      ]
     },
     "execution_count": 17,
     "metadata": {},
     "output_type": "execute_result"
    }
   ],
   "source": [
    "recommendation('Zero Landmine')"
   ]
  },
  {
   "cell_type": "code",
   "execution_count": 18,
   "id": "552988f3",
   "metadata": {},
   "outputs": [],
   "source": [
    "import pickle\n",
    "pickle.dump(similarity,open('similarity.pkl','wb'))\n",
    "pickle.dump(df,open('df.pkl','wb'))"
   ]
  },
  {
   "cell_type": "code",
   "execution_count": null,
   "id": "d74f83d2",
   "metadata": {},
   "outputs": [],
   "source": []
  }
 ],
 "metadata": {
  "kernelspec": {
   "display_name": "Python 3 (ipykernel)",
   "language": "python",
   "name": "python3"
  },
  "language_info": {
   "codemirror_mode": {
    "name": "ipython",
    "version": 3
   },
   "file_extension": ".py",
   "mimetype": "text/x-python",
   "name": "python",
   "nbconvert_exporter": "python",
   "pygments_lexer": "ipython3",
   "version": "3.11.1"
  }
 },
 "nbformat": 4,
 "nbformat_minor": 5
}
